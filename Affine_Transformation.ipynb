{
 "cells": [
  {
   "cell_type": "code",
   "execution_count": 1,
   "id": "2490c27d-45fb-48e5-bdbe-4d4eed4dbea7",
   "metadata": {},
   "outputs": [],
   "source": [
    "# AFFINE Transformation"
   ]
  },
  {
   "cell_type": "code",
   "execution_count": 1,
   "id": "55af95d5-4893-48a2-ac14-8e023024587d",
   "metadata": {},
   "outputs": [],
   "source": [
    "import cv2\n",
    "import numpy as np\n",
    "import matplotlib.pyplot as plt"
   ]
  },
  {
   "cell_type": "markdown",
   "id": "c6799ad5-e15e-4f44-9c96-3e6e43114f1a",
   "metadata": {},
   "source": [
    "#### Affine Transformation"
   ]
  },
  {
   "cell_type": "markdown",
   "id": "9e61aff8-e8ef-4ce7-bd9d-cc3807af3d38",
   "metadata": {},
   "source": [
    "#### Definition: Affine transformation is a geometric transformation that preserves parallelism of lines, but does not necessarily preserve distances or angles. It allows the manipulation of an image through various operations such as translation, scaling, rotation, and shearing."
   ]
  },
  {
   "cell_type": "code",
   "execution_count": null,
   "id": "dee1578b-80a4-4eca-913b-28e49b5dd326",
   "metadata": {},
   "outputs": [],
   "source": [
    "\n",
    "# Load the image\n",
    "image = cv2.imread(r\"C:\\Users\\Harshitha\\dora11.jpg\")\n",
    "\n",
    "# Define a translation matrix (shifting the image by 100 pixels in the x direction, and 50 pixels in the y direction)\n",
    "translation_matrix = np.float32([[1, 0, 100], [0, 1, 50]])\n",
    "\n",
    "# Apply the affine transformation (translation)\n",
    "translated_image = cv2.warpAffine(image, translation_matrix, (image.shape[1], image.shape[0]))\n",
    "\n",
    "# Display the translated image\n",
    "cv2.imshow(\"Translated Image\", translated_image)\n",
    "\n",
    "# Wait for a key press and close all windows\n",
    "cv2.waitKey(0)\n",
    "cv2.destroyAllWindows()"
   ]
  },
  {
   "cell_type": "markdown",
   "id": "e7bdc9b0-3edb-4f15-889b-a9d010223705",
   "metadata": {},
   "source": [
    "### Translation:\n",
    "#### Definition: Translation refers to shifting an image in space without changing its orientation or size. It involves moving every pixel of the        image by a certain amount along the X-axis and Y-axis."
   ]
  },
  {
   "cell_type": "code",
   "execution_count": null,
   "id": "939e5ce2-587d-49aa-9ddf-a045debdabbf",
   "metadata": {},
   "outputs": [],
   "source": [
    "# Load the image\n",
    "image = cv2.imread(r\"C:\\Users\\Harshitha\\dora11.jpg\")\n",
    "\n",
    "# Get the image dimensions (height, width)\n",
    "height, width = image.shape[:2]\n",
    "\n",
    "# Translation matrix (shift by Tx = 100, Ty = 50)\n",
    "translation_matrix = np.float32([[1, 0, 100], [0, 1, 50]])\n",
    "\n",
    "# Apply the translation\n",
    "translated_image = cv2.warpAffine(image, translation_matrix, (width, height))\n",
    "\n",
    "# Display the translated image\n",
    "cv2.imshow(\"Translated Image\", translated_image)\n",
    "\n",
    "# Wait for a key press and close all windows\n",
    "cv2.waitKey(0)\n",
    "cv2.destroyAllWindows()\n"
   ]
  },
  {
   "cell_type": "markdown",
   "id": "de3a68e3-0046-417e-8af4-6b1bbc6d4c06",
   "metadata": {},
   "source": [
    "### Scaling:\n",
    "#### Definition: Scaling refers to resizing the image in both horizontal and vertical directions by a constant factor. Unlike resizing, which allows arbitrary dimensions, scaling is usually performed by multiplying the dimensions by a specific factor."
   ]
  },
  {
   "cell_type": "code",
   "execution_count": null,
   "id": "9df53019-8f8b-42d1-9998-45569e3e90fe",
   "metadata": {},
   "outputs": [],
   "source": [
    "# Load the image\n",
    "image = cv2.imread(r\"C:\\Users\\Harshitha\\dora11.jpg\")\n",
    "\n",
    "# Resize the image to a fixed size (e.g., 500x500)\n",
    "scaled_image = cv2.resize(image, (500, 500), interpolation=cv2.INTER_LINEAR)\n",
    "\n",
    "# Display the scaled image\n",
    "cv2.imshow(\"Scaled Image\", scaled_image)\n",
    "\n",
    "# Wait for a key press and close all windows\n",
    "cv2.waitKey(0)\n",
    "cv2.destroyAllWindows()\n"
   ]
  },
  {
   "cell_type": "markdown",
   "id": "4dca5a9c-3318-437a-8494-49574438466c",
   "metadata": {},
   "source": [
    "### Rotation:\n",
    "#### Definition: Rotation involves turning an image around a specific point (usually the center of the image). The image's pixels are moved around a fixed point by a specific angle, typically in degrees."
   ]
  },
  {
   "cell_type": "code",
   "execution_count": null,
   "id": "10a60473-a850-4c1a-8447-1ed8fc4c50f5",
   "metadata": {},
   "outputs": [],
   "source": [
    "# Load the image\n",
    "image = cv2.imread(r\"C:\\Users\\Harshitha\\dora11.jpg\")\n",
    "\n",
    "# Get the image dimensions (height, width)\n",
    "height, width = image.shape[:2]\n",
    "# Calculate the center of the image for rotation\n",
    "center = (width // 2, height // 2)\n",
    "\n",
    "# Rotation matrix (rotate 45 degrees)\n",
    "rotation_matrix = cv2.getRotationMatrix2D(center, 45, 1)\n",
    "\n",
    "# Apply the rotation\n",
    "rotated_image = cv2.warpAffine(image, rotation_matrix, (width, height))\n",
    "\n",
    "# Display the rotated image\n",
    "cv2.imshow(\"Rotated Image\", rotated_image)\n",
    "\n",
    "# Wait for a key press and close all windows\n",
    "cv2.waitKey(0)\n",
    "cv2.destroyAllWindows()\n"
   ]
  },
  {
   "cell_type": "markdown",
   "id": "aac2841b-40fd-4a5a-adb1-93534127bf8e",
   "metadata": {},
   "source": [
    "### Resize:\n",
    "#### Definition: Resizing refers to changing the dimensions (height and width) of an image. This operation can either reduce or increase the image size, while maintaining or distorting the aspect ratio."
   ]
  },
  {
   "cell_type": "code",
   "execution_count": null,
   "id": "dbcd8794-0413-48b4-8749-7cd8bc8dc0cf",
   "metadata": {},
   "outputs": [],
   "source": [
    "# Load the image\n",
    "img = cv2.imread(r\"C:\\Users\\Harshitha\\dora11.jpg\")\n",
    "\n",
    "\n",
    "# Resize the original image to 500x500\n",
    "resized_original = cv2.resize(img, (500, 500))\n",
    "\n",
    "# Resize the original image to 50x50\n",
    "resized_small = cv2.resize(img, (50, 50))\n",
    "\n",
    "# Display the resized images\n",
    "cv2.imshow(\"Resized Original Image\", resized_original)\n",
    "cv2.imshow(\"Resized Small Image\", resized_small)\n",
    "\n",
    "# Wait for a key press and close all windows\n",
    "cv2.waitKey(0)\n",
    "cv2.destroyAllWindows()\n"
   ]
  },
  {
   "cell_type": "markdown",
   "id": "4c28ab39-a175-4156-96fe-91a60aea584d",
   "metadata": {},
   "source": [
    "### Shearing:\n",
    "#### Definition: Shearing (or skewing) is a transformation that shifts the pixels of an image in one direction, either horizontally or vertically, based on a certain factor. This creates a slanting effect in the image."
   ]
  },
  {
   "cell_type": "code",
   "execution_count": null,
   "id": "3f0d2154-9486-4224-bbd2-d58e9af8d4f9",
   "metadata": {},
   "outputs": [],
   "source": [
    "# Load the image\n",
    "image = cv2.imread(r\"C:\\Users\\Harshitha\\dora11.jpg\")\n",
    "\n",
    "# Get the image dimensions (height, width)\n",
    "height, width = image.shape[:2]\n",
    "# Define the shear matrix (shear by 0.5 along the x-axis)\n",
    "shear_matrix = np.float32([[1, 0.5, 0], [0, 1, 0]])\n",
    "\n",
    "# Apply the shearing transformation\n",
    "sheared_image = cv2.warpAffine(image, shear_matrix, (width, height))\n",
    "\n",
    "# Display the sheared image\n",
    "cv2.imshow(\"Sheared Image\", sheared_image)\n",
    "\n",
    "# Wait for a key press and close all windows\n",
    "cv2.waitKey(0)\n",
    "cv2.destroyAllWindows()\n"
   ]
  },
  {
   "cell_type": "code",
   "execution_count": null,
   "id": "26944aa0-b2bb-4a56-9bac-03f14c189705",
   "metadata": {},
   "outputs": [],
   "source": []
  },
  {
   "cell_type": "code",
   "execution_count": null,
   "id": "9c0829fe-1de2-4c18-823e-2b5190f082c6",
   "metadata": {},
   "outputs": [],
   "source": []
  }
 ],
 "metadata": {
  "kernelspec": {
   "display_name": "Python 3 (ipykernel)",
   "language": "python",
   "name": "python3"
  },
  "language_info": {
   "codemirror_mode": {
    "name": "ipython",
    "version": 3
   },
   "file_extension": ".py",
   "mimetype": "text/x-python",
   "name": "python",
   "nbconvert_exporter": "python",
   "pygments_lexer": "ipython3",
   "version": "3.12.4"
  }
 },
 "nbformat": 4,
 "nbformat_minor": 5
}
